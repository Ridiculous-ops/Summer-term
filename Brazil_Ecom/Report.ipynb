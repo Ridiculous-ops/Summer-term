{
 "cells": [
  {
   "cell_type": "code",
   "execution_count": null,
   "id": "4312e52b-861b-431a-b3af-4ad56c943ac6",
   "metadata": {},
   "outputs": [],
   "source": []
  }
 ],
 "metadata": {
  "kernelspec": {
   "display_name": "",
   "name": ""
  },
  "language_info": {
   "name": ""
  }
 },
 "nbformat": 4,
 "nbformat_minor": 5
}
